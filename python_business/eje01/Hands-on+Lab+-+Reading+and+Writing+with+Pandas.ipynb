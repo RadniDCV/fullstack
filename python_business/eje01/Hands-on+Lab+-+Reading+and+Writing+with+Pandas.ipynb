{
 "cells": [
  {
   "cell_type": "markdown",
   "id": "6a35fa33-b9c2-49f1-b668-0019998d599d",
   "metadata": {},
   "source": [
    "#### Problem 1: \n",
    "\n",
    "You have been provided with an Excel file named \"sales_data.xlsx\". This file contains multiple sheets, and you need to work specifically with the sheet named \"February\".\n",
    "\n",
    "Write a Python program to:\n",
    "1. Import the Excel file and load the data from the \"February\" sheet into a Pandas DataFrame.\n",
    "2. Print the first 10 rows of the data to verify that the correct sheet has been loaded."
   ]
  },
  {
   "cell_type": "code",
   "execution_count": 2,
   "id": "1a0867bb-67ca-42c7-8a86-b9dc83df5f51",
   "metadata": {},
   "outputs": [
    {
     "name": "stdout",
     "output_type": "stream",
     "text": [
      "Requirement already satisfied: pandas in /opt/anaconda3/lib/python3.12/site-packages (2.2.2)\n",
      "Requirement already satisfied: numpy>=1.26.0 in /opt/anaconda3/lib/python3.12/site-packages (from pandas) (1.26.4)\n",
      "Requirement already satisfied: python-dateutil>=2.8.2 in /opt/anaconda3/lib/python3.12/site-packages (from pandas) (2.9.0.post0)\n",
      "Requirement already satisfied: pytz>=2020.1 in /opt/anaconda3/lib/python3.12/site-packages (from pandas) (2024.1)\n",
      "Requirement already satisfied: tzdata>=2022.7 in /opt/anaconda3/lib/python3.12/site-packages (from pandas) (2023.3)\n",
      "Requirement already satisfied: six>=1.5 in /opt/anaconda3/lib/python3.12/site-packages (from python-dateutil>=2.8.2->pandas) (1.16.0)\n"
     ]
    }
   ],
   "source": [
    "!pip install pandas"
   ]
  },
  {
   "cell_type": "code",
   "execution_count": 4,
   "id": "e64b4d4a-70ab-4bdc-91c0-ab61a1607a76",
   "metadata": {},
   "outputs": [
    {
     "data": {
      "text/html": [
       "<div>\n",
       "<style scoped>\n",
       "    .dataframe tbody tr th:only-of-type {\n",
       "        vertical-align: middle;\n",
       "    }\n",
       "\n",
       "    .dataframe tbody tr th {\n",
       "        vertical-align: top;\n",
       "    }\n",
       "\n",
       "    .dataframe thead th {\n",
       "        text-align: right;\n",
       "    }\n",
       "</style>\n",
       "<table border=\"1\" class=\"dataframe\">\n",
       "  <thead>\n",
       "    <tr style=\"text-align: right;\">\n",
       "      <th></th>\n",
       "      <th>Date</th>\n",
       "      <th>Product</th>\n",
       "      <th>Units Sold</th>\n",
       "      <th>Revenue</th>\n",
       "      <th>Region</th>\n",
       "    </tr>\n",
       "  </thead>\n",
       "  <tbody>\n",
       "    <tr>\n",
       "      <th>0</th>\n",
       "      <td>2025-01-01</td>\n",
       "      <td>Product A</td>\n",
       "      <td>10</td>\n",
       "      <td>100</td>\n",
       "      <td>North</td>\n",
       "    </tr>\n",
       "    <tr>\n",
       "      <th>1</th>\n",
       "      <td>2025-01-02</td>\n",
       "      <td>Product B</td>\n",
       "      <td>15</td>\n",
       "      <td>150</td>\n",
       "      <td>South</td>\n",
       "    </tr>\n",
       "    <tr>\n",
       "      <th>2</th>\n",
       "      <td>2025-01-03</td>\n",
       "      <td>Product C</td>\n",
       "      <td>7</td>\n",
       "      <td>70</td>\n",
       "      <td>East</td>\n",
       "    </tr>\n",
       "    <tr>\n",
       "      <th>3</th>\n",
       "      <td>2025-01-04</td>\n",
       "      <td>Product A</td>\n",
       "      <td>20</td>\n",
       "      <td>200</td>\n",
       "      <td>West</td>\n",
       "    </tr>\n",
       "    <tr>\n",
       "      <th>4</th>\n",
       "      <td>2025-01-05</td>\n",
       "      <td>Product B</td>\n",
       "      <td>25</td>\n",
       "      <td>250</td>\n",
       "      <td>North</td>\n",
       "    </tr>\n",
       "    <tr>\n",
       "      <th>5</th>\n",
       "      <td>2025-01-06</td>\n",
       "      <td>Product C</td>\n",
       "      <td>12</td>\n",
       "      <td>120</td>\n",
       "      <td>South</td>\n",
       "    </tr>\n",
       "    <tr>\n",
       "      <th>6</th>\n",
       "      <td>2025-01-07</td>\n",
       "      <td>Product A</td>\n",
       "      <td>30</td>\n",
       "      <td>300</td>\n",
       "      <td>East</td>\n",
       "    </tr>\n",
       "    <tr>\n",
       "      <th>7</th>\n",
       "      <td>2025-01-08</td>\n",
       "      <td>Product B</td>\n",
       "      <td>35</td>\n",
       "      <td>350</td>\n",
       "      <td>West</td>\n",
       "    </tr>\n",
       "    <tr>\n",
       "      <th>8</th>\n",
       "      <td>2025-01-09</td>\n",
       "      <td>Product C</td>\n",
       "      <td>14</td>\n",
       "      <td>140</td>\n",
       "      <td>North</td>\n",
       "    </tr>\n",
       "    <tr>\n",
       "      <th>9</th>\n",
       "      <td>2025-01-10</td>\n",
       "      <td>Product A</td>\n",
       "      <td>40</td>\n",
       "      <td>400</td>\n",
       "      <td>South</td>\n",
       "    </tr>\n",
       "  </tbody>\n",
       "</table>\n",
       "</div>"
      ],
      "text/plain": [
       "        Date    Product  Units Sold  Revenue Region\n",
       "0 2025-01-01  Product A          10      100  North\n",
       "1 2025-01-02  Product B          15      150  South\n",
       "2 2025-01-03  Product C           7       70   East\n",
       "3 2025-01-04  Product A          20      200   West\n",
       "4 2025-01-05  Product B          25      250  North\n",
       "5 2025-01-06  Product C          12      120  South\n",
       "6 2025-01-07  Product A          30      300   East\n",
       "7 2025-01-08  Product B          35      350   West\n",
       "8 2025-01-09  Product C          14      140  North\n",
       "9 2025-01-10  Product A          40      400  South"
      ]
     },
     "execution_count": 4,
     "metadata": {},
     "output_type": "execute_result"
    }
   ],
   "source": [
    "import pandas as pd\n",
    "\n",
    "df = pd.read_excel(\"/Users/mdshahriar/Downloads/My Files and Docx/Generative AI/Hands-on Labs/sales_data.xlsx\", sheet_name = \"February\")\n",
    "df.head(10)"
   ]
  },
  {
   "cell_type": "code",
   "execution_count": null,
   "id": "8fa48cec-8bb2-492d-9702-252793936c78",
   "metadata": {},
   "outputs": [],
   "source": []
  },
  {
   "cell_type": "markdown",
   "id": "beb278cf-ebd1-4836-b45f-2e39142ec316",
   "metadata": {},
   "source": [
    "#### Problem 2: \n",
    "\n",
    "You have the following dictionary representing product data.\n",
    "\n",
    "Write a Python program to:\n",
    "1. Convert the dictionary into a Pandas DataFrame.\n",
    "2. Export this DataFrame into a CSV file named \"products.csv\", ensuring that row indices are not included in the output file.\n",
    "3. Print a confirmation message after successfully exporting the file."
   ]
  },
  {
   "cell_type": "code",
   "execution_count": 6,
   "id": "afc11cc7-f367-4ee9-aa16-44919d1209a1",
   "metadata": {},
   "outputs": [
    {
     "name": "stdout",
     "output_type": "stream",
     "text": [
      "The data has been successfully exported to 'products.csv'.\n"
     ]
    }
   ],
   "source": [
    "# The dictionary\n",
    "data = {\n",
    "    'Product': ['Laptop', 'Mouse', 'Keyboard'],\n",
    "    'Price': [1000, 25, 50],\n",
    "    'Stock': [50, 200, 150]\n",
    "}\n",
    "\n",
    "product = pd.DataFrame(data)\n",
    "\n",
    "product.to_csv(\"/Users/mdshahriar/Downloads/My Files and Docx/Generative AI/Hands-on Labs/products.csv\", index = False)\n",
    "\n",
    "print(\"The data has been successfully exported to 'products.csv'.\")"
   ]
  },
  {
   "cell_type": "code",
   "execution_count": null,
   "id": "0fe130f0-d5c4-401b-9e7d-4818d2bd41c7",
   "metadata": {},
   "outputs": [],
   "source": []
  }
 ],
 "metadata": {
  "kernelspec": {
   "display_name": "Python [conda env:base] *",
   "language": "python",
   "name": "conda-base-py"
  },
  "language_info": {
   "codemirror_mode": {
    "name": "ipython",
    "version": 3
   },
   "file_extension": ".py",
   "mimetype": "text/x-python",
   "name": "python",
   "nbconvert_exporter": "python",
   "pygments_lexer": "ipython3",
   "version": "3.12.7"
  }
 },
 "nbformat": 4,
 "nbformat_minor": 5
}
