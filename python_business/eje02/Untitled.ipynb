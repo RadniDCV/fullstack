{
 "cells": [
  {
   "cell_type": "code",
   "execution_count": null,
   "id": "047bb905-2902-4af9-9f3c-20df8cb046ba",
   "metadata": {},
   "outputs": [],
   "source": []
  }
 ],
 "metadata": {
  "kernelspec": {
   "display_name": "",
   "name": ""
  },
  "language_info": {
   "name": ""
  }
 },
 "nbformat": 4,
 "nbformat_minor": 5
}
